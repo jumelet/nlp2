{
 "cells": [
  {
   "cell_type": "code",
   "execution_count": 28,
   "metadata": {},
   "outputs": [],
   "source": [
    "from tqdm import tqdm_notebook\n",
    "\n",
    "from data_reader import DataReader\n",
    "from collections import defaultdict\n",
    "import numpy as np"
   ]
  },
  {
   "cell_type": "code",
   "execution_count": null,
   "metadata": {},
   "outputs": [],
   "source": []
  },
  {
   "cell_type": "code",
   "execution_count": 70,
   "metadata": {},
   "outputs": [],
   "source": [
    "class IBM2:\n",
    "    def __init__(self,longest_s, source_path: str, target_path) -> None:\n",
    "        self.data_reader = DataReader(source_path, target_path)\n",
    "\n",
    "        init_ef = 1 / (self.data_reader.n_source_tokens * self.data_reader.n_target_tokens)\n",
    "        \n",
    "        init_align = 1 / (longest_s)\n",
    "        \n",
    "        self.probs_ef: Dict[Tuple[str, str], float] = defaultdict(lambda: init_ef)\n",
    "        \n",
    "        self.align_probs : Dict[int, float] = defaultdict(lambda: init_align)\n",
    "\n",
    "    def jump_func(self,e_pos,f_pos,len_e,len_f):\n",
    "                    \n",
    "            \n",
    "        return int(e_pos - np.floor(f_pos * (len_e/len_f)))\n",
    "    \n",
    "        \n",
    "    def train(self, n_iter: int):\n",
    "        for s in range(n_iter):\n",
    "            \n",
    "            counts_ef = defaultdict(float)\n",
    "            counts_e = defaultdict(float)\n",
    "            counts_align = defaultdict(int)\n",
    "            for k in tqdm_notebook(range(len(self.data_reader))):\n",
    "                e, f = self.data_reader[k]\n",
    "                f = [NULL_TOKEN] + f\n",
    "\n",
    "                e_normalizer = defaultdict(float)\n",
    "                \n",
    "                for e_pos,we in enumerate(e):\n",
    "                    for f_pos,wf in enumerate(f):\n",
    "                        x = self.jump_func(e_pos,f_pos,len(e),len(f))\n",
    "                        align_prob = self.align_probs[x]\n",
    "                        \n",
    "                        e_normalizer[we] += self.probs_ef[we, wf] * align_prob\n",
    "\n",
    "                for e_pos,we in enumerate(e):\n",
    "                    for f_pos,wf in enumerate(f):\n",
    "                        x = self.jump_func(e_pos,f_pos,len(e),len(f))\n",
    "                        align_prob = self.align_probs[x]\n",
    "                        \n",
    "                        delta = (self.probs_ef[we, wf] * align_prob) / e_normalizer[we]\n",
    "\n",
    "                        counts_ef[we, wf] += delta\n",
    "                        \n",
    "                        counts_e[wf] += delta\n",
    "                        \n",
    "                        counts_align[x] += delta\n",
    "                        \n",
    "                        \n",
    "\n",
    "            for (we, wf), c in counts_ef.items():\n",
    "                self.probs_ef[we, wf] = c / counts_e[wf]\n",
    "            \n",
    "            norm_align_probs = np.sum(list(counts_align.values()))\n",
    "            \n",
    "            for x,c in counts_align.items():\n",
    "            \n",
    "                self.align_probs[x] = c/norm_align_probs"
   ]
  },
  {
   "cell_type": "code",
   "execution_count": 71,
   "metadata": {},
   "outputs": [
    {
     "data": {
      "application/vnd.jupyter.widget-view+json": {
       "model_id": "b01ae8699c3c47f2b21d83fb2278b582",
       "version_major": 2,
       "version_minor": 0
      },
      "text/plain": [
       "HBox(children=(IntProgress(value=0, max=231165), HTML(value='')))"
      ]
     },
     "metadata": {},
     "output_type": "display_data"
    },
    {
     "ename": "KeyboardInterrupt",
     "evalue": "",
     "output_type": "error",
     "traceback": [
      "\u001b[0;31m---------------------------------------------------------------------------\u001b[0m",
      "\u001b[0;31mKeyboardInterrupt\u001b[0m                         Traceback (most recent call last)",
      "\u001b[0;32m<ipython-input-71-8a802cce45b3>\u001b[0m in \u001b[0;36m<module>\u001b[0;34m\u001b[0m\n\u001b[1;32m      1\u001b[0m \u001b[0mibm2\u001b[0m \u001b[0;34m=\u001b[0m \u001b[0mIBM2\u001b[0m\u001b[0;34m(\u001b[0m\u001b[0;36m80\u001b[0m\u001b[0;34m,\u001b[0m\u001b[0;34m'training/hansards.36.2.e'\u001b[0m\u001b[0;34m,\u001b[0m \u001b[0;34m'training/hansards.36.2.f'\u001b[0m\u001b[0;34m)\u001b[0m\u001b[0;34m\u001b[0m\u001b[0;34m\u001b[0m\u001b[0m\n\u001b[0;32m----> 2\u001b[0;31m \u001b[0mibm2\u001b[0m\u001b[0;34m.\u001b[0m\u001b[0mtrain\u001b[0m\u001b[0;34m(\u001b[0m\u001b[0;36m1\u001b[0m\u001b[0;34m)\u001b[0m\u001b[0;34m\u001b[0m\u001b[0;34m\u001b[0m\u001b[0m\n\u001b[0m",
      "\u001b[0;32m<ipython-input-70-dd0532847230>\u001b[0m in \u001b[0;36mtrain\u001b[0;34m(self, n_iter)\u001b[0m\n\u001b[1;32m     34\u001b[0m                         \u001b[0malign_prob\u001b[0m \u001b[0;34m=\u001b[0m \u001b[0mself\u001b[0m\u001b[0;34m.\u001b[0m\u001b[0malign_probs\u001b[0m\u001b[0;34m[\u001b[0m\u001b[0mx\u001b[0m\u001b[0;34m]\u001b[0m\u001b[0;34m\u001b[0m\u001b[0;34m\u001b[0m\u001b[0m\n\u001b[1;32m     35\u001b[0m \u001b[0;34m\u001b[0m\u001b[0m\n\u001b[0;32m---> 36\u001b[0;31m                         \u001b[0me_normalizer\u001b[0m\u001b[0;34m[\u001b[0m\u001b[0mwe\u001b[0m\u001b[0;34m]\u001b[0m \u001b[0;34m+=\u001b[0m \u001b[0mself\u001b[0m\u001b[0;34m.\u001b[0m\u001b[0mprobs_ef\u001b[0m\u001b[0;34m[\u001b[0m\u001b[0mwe\u001b[0m\u001b[0;34m,\u001b[0m \u001b[0mwf\u001b[0m\u001b[0;34m]\u001b[0m \u001b[0;34m*\u001b[0m \u001b[0malign_prob\u001b[0m\u001b[0;34m\u001b[0m\u001b[0;34m\u001b[0m\u001b[0m\n\u001b[0m\u001b[1;32m     37\u001b[0m \u001b[0;34m\u001b[0m\u001b[0m\n\u001b[1;32m     38\u001b[0m                 \u001b[0;32mfor\u001b[0m \u001b[0me_pos\u001b[0m\u001b[0;34m,\u001b[0m\u001b[0mwe\u001b[0m \u001b[0;32min\u001b[0m \u001b[0menumerate\u001b[0m\u001b[0;34m(\u001b[0m\u001b[0me\u001b[0m\u001b[0;34m)\u001b[0m\u001b[0;34m:\u001b[0m\u001b[0;34m\u001b[0m\u001b[0;34m\u001b[0m\u001b[0m\n",
      "\u001b[0;31mKeyboardInterrupt\u001b[0m: "
     ]
    }
   ],
   "source": [
    "ibm2 = IBM2(80,'training/hansards.36.2.e', 'training/hansards.36.2.f')\n",
    "ibm2.train(1)"
   ]
  },
  {
   "cell_type": "code",
   "execution_count": null,
   "metadata": {},
   "outputs": [],
   "source": []
  },
  {
   "cell_type": "code",
   "execution_count": null,
   "metadata": {},
   "outputs": [],
   "source": []
  }
 ],
 "metadata": {
  "kernelspec": {
   "display_name": "Python 3",
   "language": "python",
   "name": "python3"
  },
  "language_info": {
   "codemirror_mode": {
    "name": "ipython",
    "version": 3
   },
   "file_extension": ".py",
   "mimetype": "text/x-python",
   "name": "python",
   "nbconvert_exporter": "python",
   "pygments_lexer": "ipython3",
   "version": "3.7.1"
  }
 },
 "nbformat": 4,
 "nbformat_minor": 2
}
