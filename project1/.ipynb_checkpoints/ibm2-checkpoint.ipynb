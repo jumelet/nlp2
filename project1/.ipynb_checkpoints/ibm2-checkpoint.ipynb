{
 "cells": [
  {
   "cell_type": "code",
   "execution_count": 1,
   "metadata": {},
   "outputs": [],
   "source": [
    "from tqdm import tqdm_notebook\n",
    "\n",
    "from data_reader import DataReader\n",
    "from collections import defaultdict\n",
    "import numpy as np\n",
    "from aer import read_naacl_alignments, AERSufficientStatistics"
   ]
  },
  {
   "cell_type": "code",
   "execution_count": 4,
   "metadata": {},
   "outputs": [],
   "source": [
    "NULL_TOKEN = 'NULL'"
   ]
  },
  {
   "cell_type": "code",
   "execution_count": 16,
   "metadata": {},
   "outputs": [],
   "source": [
    "class IBM2:\n",
    "    def __init__(self,longest_s, source_path: str, target_path,source_path_valid,target_path_valid,gold_path_valid) -> None:\n",
    "        self.data_reader = DataReader(source_path, target_path)\n",
    "        self.validation_data = DataReader(source_path_valid, target_path_valid)\n",
    "        self.gold_links = read_naacl_alignments(gold_path_valid)\n",
    "        init_ef = 1 / (self.data_reader.n_source_tokens * self.data_reader.n_target_tokens)\n",
    "        \n",
    "        init_align = 1 / (longest_s)\n",
    "        \n",
    "        self.probs_ef: Dict[Tuple[str, str], float] = defaultdict(lambda: init_ef)\n",
    "        \n",
    "        self.align_probs : Dict[int, float] = defaultdict(lambda: init_align)\n",
    "\n",
    "    def jump_func(self,e_pos,f_pos,len_e,len_f):\n",
    "                    \n",
    "            \n",
    "        return int(e_pos - np.floor(f_pos * (len_e/len_f)))\n",
    "    \n",
    "        \n",
    "    def train(self, n_iter: int):\n",
    "        for s in range(n_iter):\n",
    "            \n",
    "            counts_ef = defaultdict(float)\n",
    "            counts_e = defaultdict(float)\n",
    "            counts_align = defaultdict(int)\n",
    "            #len(self.data_reader)\n",
    "            for k in tqdm_notebook(range(8000)):\n",
    "                e, f = self.data_reader[k]\n",
    "                f = [NULL_TOKEN] + f\n",
    "\n",
    "                e_normalizer = defaultdict(float)\n",
    "                \n",
    "                for e_pos,we in enumerate(e):\n",
    "                    for f_pos,wf in enumerate(f):\n",
    "                        x = self.jump_func(e_pos,f_pos,len(e),len(f))\n",
    "                        align_prob = self.align_probs[x]\n",
    "                        \n",
    "                        e_normalizer[we] += self.probs_ef[we, wf] * align_prob\n",
    "\n",
    "                for e_pos,we in enumerate(e):\n",
    "                    for f_pos,wf in enumerate(f):\n",
    "                        x = self.jump_func(e_pos,f_pos,len(e),len(f))\n",
    "                        align_prob = self.align_probs[x]\n",
    "                        \n",
    "                        delta = (self.probs_ef[we, wf] * align_prob) / e_normalizer[we]\n",
    "\n",
    "                        counts_ef[we, wf] += delta\n",
    "                        \n",
    "                        counts_e[wf] += delta\n",
    "                        \n",
    "                        counts_align[x] += delta\n",
    "                        \n",
    "                        \n",
    "\n",
    "            for (we, wf), c in counts_ef.items():\n",
    "                self.probs_ef[we, wf] = c / counts_e[wf]\n",
    "            \n",
    "            norm_align_probs = np.sum(list(counts_align.values()))\n",
    "            \n",
    "            for x,c in counts_align.items():\n",
    "            \n",
    "                self.align_probs[x] = c/norm_align_probs\n",
    "                \n",
    "\n",
    "            # DECODING\n",
    "            print('Validation...')\n",
    "            metric = AERSufficientStatistics()\n",
    "            predictions = []\n",
    "\n",
    "            for (source, target) in tqdm_notebook(self.validation_data.get_parallel_data(), total=len(self.validation_data)):\n",
    "\n",
    "                source = [NULL_TOKEN] + source\n",
    "\n",
    "                l = len(source)\n",
    "                m = len(target)\n",
    "                \n",
    "                links = set()\n",
    "                for i, t in enumerate(target, start=1):\n",
    "                    link = (\n",
    "                        1 + np.argmax(\n",
    "                            [self.probs_ef[t, s] * self.align_probs[self.jump_func(i,j,l,m)]\n",
    "                             for (j, s)\n",
    "                             in enumerate(source, start=1)]),\n",
    "                        i\n",
    "                    )\n",
    "                    links.add(link)\n",
    "                predictions.append(links)\n",
    "\n",
    "            for gold, pred in zip(self.gold_links, predictions):\n",
    "                metric.update(sure=gold[0], probable=gold[1], predicted=pred)\n",
    "            \n",
    "            aer_result = metric.aer()\n",
    "            print('AER: {}'.format(aer_result))\n"
   ]
  },
  {
   "cell_type": "code",
   "execution_count": 17,
   "metadata": {},
   "outputs": [
    {
     "data": {
      "application/vnd.jupyter.widget-view+json": {
       "model_id": "5bcd10279ceb44cf9793c0534c7146f7",
       "version_major": 2,
       "version_minor": 0
      },
      "text/plain": [
       "HBox(children=(IntProgress(value=0, max=8000), HTML(value='')))"
      ]
     },
     "metadata": {},
     "output_type": "display_data"
    },
    {
     "name": "stdout",
     "output_type": "stream",
     "text": [
      "\n",
      "Validation...\n"
     ]
    },
    {
     "data": {
      "application/vnd.jupyter.widget-view+json": {
       "model_id": "e40f00f1a0f94ff5baca6f8dca65e8d9",
       "version_major": 2,
       "version_minor": 0
      },
      "text/plain": [
       "HBox(children=(IntProgress(value=0, max=38), HTML(value='')))"
      ]
     },
     "metadata": {},
     "output_type": "display_data"
    },
    {
     "name": "stdout",
     "output_type": "stream",
     "text": [
      "\n",
      "AER: 0.8451369216241738\n"
     ]
    },
    {
     "data": {
      "application/vnd.jupyter.widget-view+json": {
       "model_id": "7af19d0ba8db434aa5625f7c94179281",
       "version_major": 2,
       "version_minor": 0
      },
      "text/plain": [
       "HBox(children=(IntProgress(value=0, max=8000), HTML(value='')))"
      ]
     },
     "metadata": {},
     "output_type": "display_data"
    },
    {
     "name": "stdout",
     "output_type": "stream",
     "text": [
      "\n",
      "Validation...\n"
     ]
    },
    {
     "data": {
      "application/vnd.jupyter.widget-view+json": {
       "model_id": "6e3fd025f8b94612b623161c5bacd0f4",
       "version_major": 2,
       "version_minor": 0
      },
      "text/plain": [
       "HBox(children=(IntProgress(value=0, max=38), HTML(value='')))"
      ]
     },
     "metadata": {},
     "output_type": "display_data"
    },
    {
     "name": "stdout",
     "output_type": "stream",
     "text": [
      "\n",
      "AER: 0.846081208687441\n"
     ]
    }
   ],
   "source": [
    "ibm2 = IBM2(80,'training/hansards.36.2.e', 'training/hansards.36.2.f','validation/dev.e','validation/dev.f','validation/dev.wa.nonullalign')\n",
    "ibm2.train(2)"
   ]
  },
  {
   "cell_type": "code",
   "execution_count": 19,
   "metadata": {},
   "outputs": [
    {
     "data": {
      "text/plain": [
       "0.15486307837582625"
      ]
     },
     "execution_count": 19,
     "metadata": {},
     "output_type": "execute_result"
    }
   ],
   "source": [
    "1 - 0.8451369216241738"
   ]
  },
  {
   "cell_type": "code",
   "execution_count": 18,
   "metadata": {},
   "outputs": [
    {
     "data": {
      "text/plain": [
       "0.15391879131255903"
      ]
     },
     "execution_count": 18,
     "metadata": {},
     "output_type": "execute_result"
    }
   ],
   "source": [
    "1 - 0.846081208687441"
   ]
  },
  {
   "cell_type": "code",
   "execution_count": null,
   "metadata": {},
   "outputs": [],
   "source": []
  }
 ],
 "metadata": {
  "kernelspec": {
   "display_name": "Python 3",
   "language": "python",
   "name": "python3"
  },
  "language_info": {
   "codemirror_mode": {
    "name": "ipython",
    "version": 3
   },
   "file_extension": ".py",
   "mimetype": "text/x-python",
   "name": "python",
   "nbconvert_exporter": "python",
   "pygments_lexer": "ipython3",
   "version": "3.7.1"
  }
 },
 "nbformat": 4,
 "nbformat_minor": 2
}
